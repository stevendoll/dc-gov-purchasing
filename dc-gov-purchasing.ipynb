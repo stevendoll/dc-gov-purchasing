{
 "cells": [
  {
   "cell_type": "markdown",
   "metadata": {},
   "source": [
    "DC Government Purchasing\n",
    "Analysis of government purchase orders 2004-2015\n",
    "\n",
    "My interest was sparked by an article Homeless shelter plan could be profitable for Bowser’s backers https://www.washingtonpost.com/local/dc-politics/homeless-shelter-plan-could-be-profitable-for-bowsers-backers/2016/03/16/cbab0e76-eadc-11e5-b0fd-073d5930a7b7_story.html\n",
    "D.C. Mayor Muriel E. Bowser has pitched her plan to create family homeless shelters in almost every ward of the city as an equitable way for the community to share the burden of caring for the neediest residents.\n",
    "\n",
    "But records show that most of the private properties proposed as shelter sites are owned or at least partly controlled by major donors to the mayor. And experts have calculated that the city leases­ would increase the assessed value of those properties by as much as 10 times for that small group of landowners and developers.\n",
    "\n",
    "How much taxpayer money would be paid to a handful of well-connected private landowners, developers and their agents is expected to be a focus of a hearing Thursday before the D.C. Council.\n",
    "\n",
    "http://www.bayesimpact.org/stories/?name=the-mob-the-money-and-the-mayhem\n",
    "How Network Analysis Can Help Identify Money Laundering Schemes\n",
    "Written by Jonathon Morgan, Platform Architect at Ushahidi and Founder of CrisisNET \n",
    "Using Eliot’s tip and a public database of registered UK companies, we investigated whether a network analysis approach could identify potential smoking guns — sham companies, shady business connections, or at least organizations with the capacity for offshore money laundering."
   ]
  },
  {
   "cell_type": "code",
   "execution_count": null,
   "metadata": {
    "collapsed": true
   },
   "outputs": [],
   "source": []
  }
 ],
 "metadata": {
  "kernelspec": {
   "display_name": "Python 3",
   "language": "python",
   "name": "python3"
  },
  "language_info": {
   "codemirror_mode": {
    "name": "ipython",
    "version": 3
   },
   "file_extension": ".py",
   "mimetype": "text/x-python",
   "name": "python",
   "nbconvert_exporter": "python",
   "pygments_lexer": "ipython3",
   "version": "3.5.1"
  }
 },
 "nbformat": 4,
 "nbformat_minor": 0
}
